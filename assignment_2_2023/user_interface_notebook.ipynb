{
 "cells": [
  {
   "cell_type": "code",
   "execution_count": 1,
   "id": "199e634b",
   "metadata": {},
   "outputs": [],
   "source": [
    "from __future__ import print_function\n",
    "import rospy\n",
    "# Brings in the SimpleActionClient\n",
    "import actionlib\n",
    "import actionlib.msg\n",
    "# Brings in the messages used by the Planning action including the goal message and the result message.\n",
    "import assignment_2_2023.msg\n",
    "from assignment_2_2023.msg import RobotState, PlanningFeedback, PlanningGoal, PlanningAction, PlanningResult \n",
    "from geometry_msgs.msg import Twist, Point, Pose\n",
    "from actionlib_msgs.msg import GoalStatus\n",
    "from nav_msgs.msg import Odometry\n",
    "# libraries the UI\n",
    "from ipywidgets import VBox,HBox\n",
    "import ipywidgets as widgets\n",
    "import jupyros as jr\n",
    "from IPython.display import display, clear_output\n",
    "from colorama import Fore, Style\n",
    "from colorama import init\n",
    "import numpy as np\n",
    "from matplotlib.animation import FuncAnimation\n",
    "import matplotlib.pyplot as plt\n"
   ]
  },
  {
   "cell_type": "code",
   "execution_count": 2,
   "id": "23ee2a4c",
   "metadata": {},
   "outputs": [],
   "source": [
    "class Visualiser:\n",
    "    \n",
    "    def __init__(self):\n",
    "        self.fig, self.ax = plt.subplots()\n",
    "        self.ln, = plt.plot([], [], 'ro' ,label='Current Position')\n",
    "        self.sent_goals, =self.ax.plot([],[],'bo',label='Reached Goals')\n",
    "        self.canceled_goals, = self.ax.plot([], [], 'yo',label='Canceled Goals') \n",
    "        self.x_data, self.y_data = [] , [] \n",
    "        self.latest_position_x, self.latest_position_y = [],[]\n",
    "        self.target_x, self.target_y = [], []\n",
    "        self.canceled_x, self.canceled_y = [],[]\n",
    "      \n",
    "    def plot_init(self):\n",
    "        self.ax.set_xlim(-10, 10)\n",
    "        self.ax.set_ylim(-10, 10)\n",
    "        self.ax.legend()  \n",
    "     \n",
    "\n",
    "\n",
    "    def odom_callback(self, odom_msg):\n",
    "        x = odom_msg.pose.pose.position.x\n",
    "        y = odom_msg.pose.pose.position.y\n",
    "        vel_x = odom_msg.twist.twist.linear.x\n",
    "        vel_z = odom_msg.twist.twist.angular.z\n",
    "        self.latest_position_x.append(x)\n",
    "        self.latest_position_y.append(y)\n",
    "        \n",
    "        global postion_label\n",
    "        position_label.value = f\"Position: ({self.latest_position_x:.2f}, {self.latest_position_y:.2f})\"\n",
    "         \n",
    "        \n",
    "    def update_plot(self, frame):\n",
    "        self.ln.set_data( self.latest_position_x, self.latest_position_y)\n",
    "        self.sent_goals.set_data(self.target_x,self.target_y)\n",
    "        self.canceled_goals.set_data(self.canceled_x, self.canceled_y)\n",
    "        return self.ln, self.sent_goals,  self.canceled_goals\n",
    "\n",
    "        "
   ]
  },
  {
   "cell_type": "code",
   "execution_count": 3,
   "id": "ee019b13",
   "metadata": {
    "scrolled": true
   },
   "outputs": [
    {
     "data": {
      "application/vnd.jupyter.widget-view+json": {
       "model_id": "30337b74b95d41b4ba9dbac149bd570b",
       "version_major": 2,
       "version_minor": 0
      },
      "text/plain": [
       "Canvas(toolbar=Toolbar(toolitems=[('Home', 'Reset original view', 'home', 'home'), ('Back', 'Back to previous …"
      ]
     },
     "metadata": {},
     "output_type": "display_data"
    }
   ],
   "source": [
    "#create a user interface node \n",
    "rospy.init_node('user_interface')\n",
    "%matplotlib widget\n",
    "vis = Visualiser()\n"
   ]
  },
  {
   "cell_type": "code",
   "execution_count": 4,
   "id": "47b381a7",
   "metadata": {},
   "outputs": [
    {
     "data": {
      "text/plain": [
       "True"
      ]
     },
     "execution_count": 4,
     "metadata": {},
     "output_type": "execute_result"
    }
   ],
   "source": [
    "# create the action client \n",
    "\n",
    "client = actionlib.SimpleActionClient('/reaching_goal',PlanningAction)\n",
    "client.wait_for_server()"
   ]
  },
  {
   "cell_type": "code",
   "execution_count": 5,
   "id": "530d8474",
   "metadata": {},
   "outputs": [],
   "source": [
    "# Widget for setting goals\n",
    "x_input = widgets.FloatText(description='X:')\n",
    "y_input = widgets.FloatText(description='Y :')\n",
    "send_goal_button = widgets.Button(description='Send Goal')\n",
    "cancel_goal_button = widgets.Button(description='Cancel Goal')\n",
    "position_label = widgets.Label(value=\"Position: (0, 0)\")\n",
    "\n"
   ]
  },
  {
   "cell_type": "code",
   "execution_count": 6,
   "id": "d12278f7",
   "metadata": {},
   "outputs": [],
   "source": [
    "\n",
    "coord = (0,0)\n",
    "#function for sending the goal \n",
    "def send_goal(e):\n",
    "    \n",
    "    global coord\n",
    "    print(\"Goal sent\")\n",
    "    goal = PlanningGoal()\n",
    "    goal.target_pose.pose.position.x = x_input.value\n",
    "    goal.target_pose.pose.position.y = y_input.value\n",
    "    client.send_goal(goal,goal_done_callback)\n",
    "   \n",
    "    coord = (x_input.value, y_input.value)\n",
    "   \n",
    "  \n",
    "\n",
    "# Bind the button's on_click event to the send_goal function\n",
    "send_goal_button.on_click(send_goal)"
   ]
  },
  {
   "cell_type": "code",
   "execution_count": 7,
   "id": "d7878531",
   "metadata": {},
   "outputs": [],
   "source": [
    "goals_reached = []\n",
    "coord = (0,0)\n",
    "def goal_done_callback(status, result):\n",
    "    global goals_reached, coord\n",
    "    coord\n",
    "    if status == actionlib.GoalStatus.SUCCEEDED:\n",
    "        print(\"Goal succeeded.\\n\")\n",
    "        vis.target_x.append(coord[0])\n",
    "        vis.target_y.append(coord[1])\n",
    "    else:\n",
    "        print(\"Goal failed.\\n\")\n",
    "        vis.canceled_x.append(coord[0])\n",
    "        vis.canceled_y.append(coord[1])\n"
   ]
  },
  {
   "cell_type": "code",
   "execution_count": 8,
   "id": "316e2b77",
   "metadata": {},
   "outputs": [],
   "source": [
    "canceled_target_array = []\n",
    "#function to cancel the goal \n",
    "def cancel_goal(e):\n",
    "    print(\"canceling the goal\")\n",
    "    client.cancel_goal()\n",
    "    \n",
    "    cancel_state = client.wait_for_result()\n",
    "\n",
    "    if cancel_state:\n",
    "        print(\"Goal has been cancelled.\")\n",
    "    else:\n",
    "        print(\"Failed to cancel the goal\")\n",
    "    \n",
    "    global canceled_target_array\n",
    "    canceled_target_array.append(coord)\n",
    "\n",
    "#bind the button on_click event to cancel the goal \n",
    "cancel_goal_button.on_click(cancel_goal)"
   ]
  },
  {
   "cell_type": "code",
   "execution_count": 9,
   "id": "5d163a6d",
   "metadata": {},
   "outputs": [],
   "source": [
    "\n",
    "ani = FuncAnimation(vis.fig, vis.update_plot, init_func=vis.plot_init, blit=True)\n",
    "plt.show(block=True)\n",
    "\n"
   ]
  },
  {
   "cell_type": "code",
   "execution_count": 10,
   "id": "34dcb6be",
   "metadata": {},
   "outputs": [],
   "source": [
    "odom_sub = rospy.Subscriber('/odom', Odometry, vis.odom_callback)"
   ]
  },
  {
   "cell_type": "code",
   "execution_count": 11,
   "id": "396aadde",
   "metadata": {},
   "outputs": [
    {
     "data": {
      "application/vnd.jupyter.widget-view+json": {
       "model_id": "7ad90fe3f0d74ee4bf6977ffd4b74820",
       "version_major": 2,
       "version_minor": 0
      },
      "text/plain": [
       "VBox(children=(FloatText(value=0.0, description='X:'), FloatText(value=0.0, description='Y :'), Button(descrip…"
      ]
     },
     "metadata": {},
     "output_type": "display_data"
    },
    {
     "name": "stdout",
     "output_type": "stream",
     "text": [
      "Goal sent\n"
     ]
    }
   ],
   "source": [
    "# Display the widgets\n",
    "display(VBox([x_input, y_input, send_goal_button, cancel_goal_button,position_label]))\n",
    "\n",
    "#keep the ros node running \n",
    "#rospy.spin()\n"
   ]
  },
  {
   "cell_type": "code",
   "execution_count": null,
   "id": "2537a551",
   "metadata": {},
   "outputs": [],
   "source": []
  }
 ],
 "metadata": {
  "kernelspec": {
   "display_name": "Python 3 (ipykernel)",
   "language": "python",
   "name": "python3"
  },
  "language_info": {
   "codemirror_mode": {
    "name": "ipython",
    "version": 3
   },
   "file_extension": ".py",
   "mimetype": "text/x-python",
   "name": "python",
   "nbconvert_exporter": "python",
   "pygments_lexer": "ipython3",
   "version": "3.8.5"
  }
 },
 "nbformat": 4,
 "nbformat_minor": 5
}
